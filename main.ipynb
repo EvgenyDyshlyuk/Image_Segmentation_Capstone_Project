{
 "cells": [
  {
   "source": [
    "About image sizes\n",
    "https://ai.stackexchange.com/questions/6274/how-can-i-deal-with-images-of-variable-dimensions-when-doing-image-segmentation"
   ],
   "cell_type": "markdown",
   "metadata": {}
  },
  {
   "cell_type": "code",
   "execution_count": 1,
   "metadata": {},
   "outputs": [],
   "source": [
    "%matplotlib inline\n",
    "%load_ext autoreload\n",
    "%autoreload 2\n",
    "\n",
    "from torch.utils.data import Dataset, DataLoader\n",
    "from torchvision import transforms, datasets, models\n",
    "import torchvision.utils\n",
    "\n",
    "import os,sys\n",
    "import pandas as pd\n",
    "import matplotlib.pyplot as plt\n",
    "import numpy as np\n",
    "import helper\n",
    "import simulation\n",
    "\n",
    "from PIL import Image"
   ]
  },
  {
   "cell_type": "code",
   "execution_count": 2,
   "metadata": {},
   "outputs": [],
   "source": [
    "def preview(image, mask, alpha = False):\n",
    "    # preview side by side\n",
    "    if alpha == False:\n",
    "        fig, (ax1, ax2) = plt.subplots(1, 2)\n",
    "        #fig.suptitle('Horizontally stacked subplots')\n",
    "        ax1.imshow(image.permute(1, 2, 0))\n",
    "        ax2.imshow(mask)\n",
    "    else:\n",
    "        # transform Tensor to PIL image\n",
    "        trans = transforms.ToPILImage()\n",
    "        image_pil=trans(image)\n",
    "        # mask is in palette mode so change to RGB to blend them together\n",
    "        mask_rgb=mask.convert('RGB')\n",
    "        #print(mask_rgb.mode)\n",
    "        blend_image = Image.blend(image_pil, mask_rgb, alpha=alpha)\n",
    "        plt.imshow(blend_image)\n",
    "    plt.show()\n",
    "\n",
    "def preview_tensor(tensor):\n",
    "    plt.imshow(tensor.permute(1, 2, 0))"
   ]
  },
  {
   "cell_type": "code",
   "execution_count": 68,
   "metadata": {},
   "outputs": [],
   "source": [
    "class ToOneHotMask(object):\n",
    "    \"\"\"Convert a ``PIL Image`` to numpy OneHotMask.\n",
    "    \"\"\"\n",
    "\n",
    "    def __call__(self, mask):\n",
    "        \"\"\"\n",
    "        Args:\n",
    "            mask (PIL Image): Image to be converted to numpy onehot mask.\n",
    "        Returns:\n",
    "            Numpy array: Converted image.\n",
    "        \"\"\"\n",
    "        def mask2onehot(mask):\n",
    "            \"\"\"\n",
    "            Converts a segmentation mask (H,W) to (K,H,W) where the last dim is a one-hot encoding vector\n",
    "            0: background\n",
    "            [1 .. 20] interval: segmented objects, classes [Aeroplane, ..., Tvmonitor]\n",
    "            255: void category, used for border regions (5px) and to mask difficult objects\n",
    "            \"\"\"\n",
    "            classes = [0,1,2,3,4,5,6,7,8,9,10,11,12,13,14,15,16,17,18,19,20,255]\n",
    "            _mask = [mask == i for i in classes]\n",
    "            return np.array(_mask).astype(np.uint8)\n",
    "\n",
    "        return mask2onehot(np.asarray(mask))  "
   ]
  },
  {
   "cell_type": "code",
   "execution_count": 98,
   "metadata": {},
   "outputs": [],
   "source": [
    "class ToEvenSize(object):\n",
    "    \"\"\"\n",
    "    Transforms the image so that HW\n",
    "    \"\"\"\n",
    "    def __call__(self, obj):\n",
    "        \"\"\"\n",
    "        Args:\n",
    "            mask (PIL Image): Image to be converted to numpy onehot mask.\n",
    "        Returns:\n",
    "            Numpy array: Converted image.\n",
    "        \"\"\"\n",
    "        lst=list(obj.shape)\n",
    "        H, W = lst[0], lst[1]\n",
    "\n",
    "        if ((H%2 == 0) and (W%2 == 0)):\n",
    "            pass\n",
    "        else:\n",
    "            if H%2 == 0:\n",
    "                obj=np.delete(obj, -1, 1)\n",
    "            elif W%2 == 0:\n",
    "                obj=np.delete(obj, -1, 0)\n",
    "            else:             \n",
    "                obj=np.delete(obj, -1, 0)\n",
    "                obj=np.delete(obj, -1, 1)  \n",
    "        return obj"
   ]
  },
  {
   "cell_type": "code",
   "execution_count": 145,
   "metadata": {},
   "outputs": [
    {
     "output_type": "stream",
     "name": "stdout",
     "text": [
      "(50, 100)\n[[0. 0. 0. ... 0. 0. 0.]\n [0. 0. 0. ... 0. 0. 0.]\n [0. 0. 0. ... 0. 0. 0.]\n ...\n [0. 0. 0. ... 0. 0. 0.]\n [0. 0. 0. ... 0. 0. 0.]\n [0. 0. 0. ... 0. 0. 0.]]\n"
     ]
    }
   ],
   "source": [
    "w, h = 50,100\n",
    "\n",
    "img = np.zeros((w,h))\n",
    "#img = np.eye(10)\n",
    "#print(img)\n",
    "print(img.shape)\n",
    "\n",
    "\n",
    "while w%8!=0:\n",
    "    w-=1\n",
    "    print(w)\n",
    "# del columns\n",
    "\n",
    "row = 2\n",
    "img=img[:-row, :]\n",
    "col=1\n",
    "img=img[:,:-col]\n",
    "# del rows\n",
    "row = 0\n",
    "#img=np.delete(img, slice(-row,-1), 1)\n",
    "print(img)"
   ]
  },
  {
   "cell_type": "code",
   "execution_count": 100,
   "metadata": {},
   "outputs": [],
   "source": [
    "class ToProperSize(img):\n",
    "    \"\"\"\n",
    "    Transforms the image so that HW\n",
    "    \"\"\"\n",
    "    def __call__(self, img):\n",
    "        \"\"\"\n",
    "        Args:\n",
    "            mask (PIL Image): Image to be converted to numpy onehot mask.\n",
    "        Returns:\n",
    "            Numpy array: Converted image.\n",
    "        \"\"\"\n",
    "        W, H = img.size\n",
    "\n",
    "        if ((H%8 == 0) and (W%8 == 0)):\n",
    "            pass\n",
    "        else:\n",
    "            if H%8 == 0:\n",
    "                img=np.delete(img, -1, 1)\n",
    "            elif W%8 == 0:\n",
    "                img=np.delete(img, -1, 0)\n",
    "            else:             \n",
    "                img=np.delete(img, -1, 0)\n",
    "                img=np.delete(img, -1, 1)  \n",
    "        return img"
   ]
  },
  {
   "cell_type": "code",
   "execution_count": 102,
   "metadata": {},
   "outputs": [
    {
     "output_type": "stream",
     "name": "stdout",
     "text": [
      "Using downloaded and verified file: input\\VOCtrainval_06-Nov-2007.tar\n",
      "Using downloaded and verified file: input\\VOCtrainval_06-Nov-2007.tar\n",
      "{'train': 209, 'val': 213}\n",
      "<class 'torch.Tensor'> torch.Size([3, 366, 500])\n",
      "<class 'numpy.ndarray'> 4026000\n"
     ]
    }
   ],
   "source": [
    "image_transform = transforms.Compose([\n",
    "    #transforms.CenterCrop((224,224)),\n",
    "    ToEvenSize(),\n",
    "    transforms.ToTensor()  \n",
    "])\n",
    "\n",
    "mask_transform = transforms.Compose([\n",
    "    #transforms.CenterCrop((224,224)),\n",
    "    ToEvenSize(),\n",
    "    ToOneHotMask()   \n",
    "])\n",
    "\n",
    "train_set = datasets.VOCSegmentation('input', year='2007', image_set = 'train', download = True, transform=image_transform, target_transform=mask_transform)\n",
    "val_set = datasets.VOCSegmentation('input', year='2007', image_set = 'val', download = True, transform=image_transform, target_transform=mask_transform)\n",
    "\n",
    "image_datasets = {\n",
    "    'train': train_set, 'val': val_set\n",
    "}\n",
    "\n",
    "batch_size = 1\n",
    "\n",
    "dataloaders = {\n",
    "    'train': DataLoader(train_set, batch_size=batch_size, shuffle=True, num_workers=0),\n",
    "    'val': DataLoader(val_set, batch_size=batch_size, shuffle=True, num_workers=0)\n",
    "}\n",
    "\n",
    "dataset_sizes = {\n",
    "    x: len(image_datasets[x]) for x in image_datasets.keys()\n",
    "}\n",
    "\n",
    "print(dataset_sizes)\n",
    "\n",
    "image, target = train_set[1]\n",
    "print(type(image), image.size())\n",
    "print(type(target), target.size)"
   ]
  },
  {
   "cell_type": "code",
   "execution_count": 18,
   "metadata": {},
   "outputs": [
    {
     "output_type": "error",
     "ename": "AttributeError",
     "evalue": "'Tensor' object has no attribute 'convert'",
     "traceback": [
      "\u001b[1;31m---------------------------------------------------------------------------\u001b[0m",
      "\u001b[1;31mAttributeError\u001b[0m                            Traceback (most recent call last)",
      "\u001b[1;32m<ipython-input-18-a2316577f9de>\u001b[0m in \u001b[0;36m<module>\u001b[1;34m\u001b[0m\n\u001b[0;32m      1\u001b[0m \u001b[1;32mfor\u001b[0m \u001b[0mi\u001b[0m \u001b[1;32min\u001b[0m \u001b[0mrange\u001b[0m\u001b[1;33m(\u001b[0m\u001b[1;36m5\u001b[0m\u001b[1;33m)\u001b[0m\u001b[1;33m:\u001b[0m\u001b[1;33m\u001b[0m\u001b[1;33m\u001b[0m\u001b[0m\n\u001b[0;32m      2\u001b[0m     \u001b[0mimage\u001b[0m\u001b[1;33m,\u001b[0m \u001b[0mmask\u001b[0m \u001b[1;33m=\u001b[0m \u001b[0mtrain_set\u001b[0m\u001b[1;33m[\u001b[0m\u001b[0mi\u001b[0m\u001b[1;33m]\u001b[0m\u001b[1;33m\u001b[0m\u001b[1;33m\u001b[0m\u001b[0m\n\u001b[1;32m----> 3\u001b[1;33m     \u001b[0mpreview\u001b[0m\u001b[1;33m(\u001b[0m\u001b[0mimage\u001b[0m\u001b[1;33m,\u001b[0m \u001b[0mmask\u001b[0m\u001b[1;33m,\u001b[0m \u001b[1;36m0.5\u001b[0m\u001b[1;33m)\u001b[0m\u001b[1;33m\u001b[0m\u001b[1;33m\u001b[0m\u001b[0m\n\u001b[0m",
      "\u001b[1;32m<ipython-input-3-f36be2a145f3>\u001b[0m in \u001b[0;36mpreview\u001b[1;34m(image, mask, alpha)\u001b[0m\n\u001b[0;32m     11\u001b[0m         \u001b[0mimage_pil\u001b[0m\u001b[1;33m=\u001b[0m\u001b[0mtrans\u001b[0m\u001b[1;33m(\u001b[0m\u001b[0mimage\u001b[0m\u001b[1;33m)\u001b[0m\u001b[1;33m\u001b[0m\u001b[1;33m\u001b[0m\u001b[0m\n\u001b[0;32m     12\u001b[0m         \u001b[1;31m# mask is in palette mode so change to RGB to blend them together\u001b[0m\u001b[1;33m\u001b[0m\u001b[1;33m\u001b[0m\u001b[1;33m\u001b[0m\u001b[0m\n\u001b[1;32m---> 13\u001b[1;33m         \u001b[0mmask_rgb\u001b[0m\u001b[1;33m=\u001b[0m\u001b[0mmask\u001b[0m\u001b[1;33m.\u001b[0m\u001b[0mconvert\u001b[0m\u001b[1;33m(\u001b[0m\u001b[1;34m'RGB'\u001b[0m\u001b[1;33m)\u001b[0m\u001b[1;33m\u001b[0m\u001b[1;33m\u001b[0m\u001b[0m\n\u001b[0m\u001b[0;32m     14\u001b[0m         \u001b[1;31m#print(mask_rgb.mode)\u001b[0m\u001b[1;33m\u001b[0m\u001b[1;33m\u001b[0m\u001b[1;33m\u001b[0m\u001b[0m\n\u001b[0;32m     15\u001b[0m         \u001b[0mblend_image\u001b[0m \u001b[1;33m=\u001b[0m \u001b[0mImage\u001b[0m\u001b[1;33m.\u001b[0m\u001b[0mblend\u001b[0m\u001b[1;33m(\u001b[0m\u001b[0mimage_pil\u001b[0m\u001b[1;33m,\u001b[0m \u001b[0mmask_rgb\u001b[0m\u001b[1;33m,\u001b[0m \u001b[0malpha\u001b[0m\u001b[1;33m=\u001b[0m\u001b[0malpha\u001b[0m\u001b[1;33m)\u001b[0m\u001b[1;33m\u001b[0m\u001b[1;33m\u001b[0m\u001b[0m\n",
      "\u001b[1;31mAttributeError\u001b[0m: 'Tensor' object has no attribute 'convert'"
     ]
    }
   ],
   "source": [
    "for i in range(5):\n",
    "    image, mask = train_set[i]\n",
    "    preview(image, mask, 0.5)"
   ]
  },
  {
   "cell_type": "code",
   "execution_count": 22,
   "metadata": {},
   "outputs": [
    {
     "output_type": "stream",
     "name": "stdout",
     "text": [
      "<class 'torch.Tensor'> torch.Size([3, 224, 224])\n<class 'torch.Tensor'> <built-in method size of Tensor object at 0x000001BFFF928958>\n"
     ]
    },
    {
     "output_type": "error",
     "ename": "AttributeError",
     "evalue": "'Tensor' object has no attribute 'getpalette'",
     "traceback": [
      "\u001b[1;31m---------------------------------------------------------------------------\u001b[0m",
      "\u001b[1;31mAttributeError\u001b[0m                            Traceback (most recent call last)",
      "\u001b[1;32m<ipython-input-22-6f7d9ad11e2c>\u001b[0m in \u001b[0;36m<module>\u001b[1;34m\u001b[0m\n\u001b[0;32m     27\u001b[0m \u001b[1;33m\u001b[0m\u001b[0m\n\u001b[0;32m     28\u001b[0m \u001b[1;31m# get mask palette\u001b[0m\u001b[1;33m\u001b[0m\u001b[1;33m\u001b[0m\u001b[1;33m\u001b[0m\u001b[0m\n\u001b[1;32m---> 29\u001b[1;33m \u001b[0mpalette\u001b[0m \u001b[1;33m=\u001b[0m \u001b[0mmask\u001b[0m\u001b[1;33m.\u001b[0m\u001b[0mgetpalette\u001b[0m\u001b[1;33m(\u001b[0m\u001b[1;33m)\u001b[0m\u001b[1;33m\u001b[0m\u001b[1;33m\u001b[0m\u001b[0m\n\u001b[0m\u001b[0;32m     30\u001b[0m \u001b[1;33m\u001b[0m\u001b[0m\n\u001b[0;32m     31\u001b[0m \u001b[1;31m# create onehot from mask\u001b[0m\u001b[1;33m\u001b[0m\u001b[1;33m\u001b[0m\u001b[1;33m\u001b[0m\u001b[0m\n",
      "\u001b[1;31mAttributeError\u001b[0m: 'Tensor' object has no attribute 'getpalette'"
     ]
    }
   ],
   "source": [
    "# modified from https://www.programmersought.com/article/97425131352/\n",
    "# classes\n",
    "def mask2onehot(mask):\n",
    "    \"\"\"\n",
    "    Converts a segmentation mask (H,W) to (K,H,W) where the last dim is a one-hot encoding vector\n",
    "    0: background\n",
    "    [1 .. 20] interval: segmented objects, classes [Aeroplane, ..., Tvmonitor]\n",
    "    255: void category, used for border regions (5px) and to mask difficult objects\n",
    "    \"\"\"\n",
    "    classes = [0,1,2,3,4,5,6,7,8,9,10,11,12,13,14,15,16,17,18,19,20,255]\n",
    "    _mask = [mask == i for i in classes]\n",
    "    return np.array(_mask).astype(np.uint8)\n",
    "\n",
    "def onehot2mask(onehot):\n",
    "    \"\"\"\n",
    "    Converts a mask (K, H, W) to (H,W)\n",
    "    \"\"\"\n",
    "    _mask = np.argmax(onehot, axis=0).astype(np.uint8)    \n",
    "    return np.where(_mask==21, 255, _mask)\n",
    "\n",
    "\n",
    "# get an image, mask pair\n",
    "image, mask = train_set[0]\n",
    "\n",
    "print(type(image), image.size())\n",
    "print(type(mask), mask.size)\n",
    "\n",
    "# get mask palette\n",
    "palette = mask.getpalette()\n",
    "\n",
    "# create onehot from mask\n",
    "onehot = mask2onehot(np.asarray(mask))\n",
    "print(type(onehot), onehot.shape)\n",
    "\n",
    "# create mask from onehot\n",
    "back = onehot2mask(onehot)\n",
    "print(type(back), back.shape)\n",
    "\n",
    "# check if the same\n",
    "print((back==mask).all())\n",
    "\n",
    "# Create PIL image from array\n",
    "mask_1 = Image.fromarray(back, 'P') # palette mode\n",
    "mask_1.putpalette(palette) # set the palette\n",
    "print(type(mask_1), mask_1.size)\n",
    "\n",
    "# preview image before and after\n",
    "preview(image,mask, 0.5)\n",
    "preview(image,mask_1, 0.5)"
   ]
  },
  {
   "cell_type": "code",
   "execution_count": 23,
   "metadata": {},
   "outputs": [],
   "source": [
    "# def create_pascal_label_colormap():\n",
    "#   \"\"\"Creates a label colormap used in PASCAL VOC segmentation benchmark.\n",
    "\n",
    "#   Returns:\n",
    "#     A Colormap for visualizing segmentation results.\n",
    "#   \"\"\"\n",
    "#   colormap = np.zeros((256, 3), dtype=int)\n",
    "#   ind = np.arange(256, dtype=int)\n",
    "\n",
    "#   for shift in reversed(range(8)):\n",
    "#     for channel in range(3):\n",
    "#       colormap[:, channel] |= ((ind >> channel) & 1) << shift\n",
    "#     ind >>= 3\n",
    "\n",
    "#   return colormap.flatten().tolist()\n",
    "# palette = create_pascal_label_colormap()\n",
    "\n",
    "# def pascal_palette():\n",
    "#     colors_dict = {\n",
    "#         0: [0, 0, 0],        # 0=background\n",
    "#         1: [128, 0, 0],      # 1=aeroplane\n",
    "#         2: [0, 128, 0],      # 2=bicycle\n",
    "#         3: [128, 128, 0],    # 3=bird\n",
    "#         4: [0, 0, 128],      # 4=boat\n",
    "#         5: [128, 0, 128],    # 5=bottle\n",
    "#         6: [0, 128, 128],    # 6=bus\n",
    "#         7: [128, 128, 128],  # 7=car\n",
    "#         8: [64, 0, 0],       # 8=cat\n",
    "#         9: [192, 0, 0],      # 9=chair\n",
    "#         10: [64, 128, 0],    # 10=cow\n",
    "#         11: [192, 128, 0],   # 11=diningtable\n",
    "#         12: [64, 0, 128],    # 12=dog\n",
    "#         13: [192, 0, 128],   # 13=horse\n",
    "#         14: [64, 128, 128],  # 14=motorbike\n",
    "#         15: [192, 128, 128], # 15=person\n",
    "#         16: [0, 64, 0],      # 16=potted plant\n",
    "#         17: [128, 64, 0],    # 17=sheep\n",
    "#         18: [0, 192, 0],     # 18=sofa\n",
    "#         19: [128, 192, 0],   # 19=train\n",
    "#         20: [0, 64, 128],    # 20=tv/monitor\n",
    "#         255: [224, 224, 192] # 255=void\n",
    "#         }\n",
    "#     palette = []\n",
    "#     for i in np.arange(256):\n",
    "#         if i in colors_dict:\n",
    "#             palette.extend(colors_dict[i])\n",
    "#         else:\n",
    "#             palette.extend([0, 0, 0])\n",
    "#     return palette\n",
    "\n",
    "# palette = pascal_palette()"
   ]
  },
  {
   "cell_type": "code",
   "execution_count": 24,
   "metadata": {},
   "outputs": [],
   "source": [
    "def reverse_transform(inp):\n",
    "    inp = inp.numpy().transpose((1, 2, 0))\n",
    "    inp = np.clip(inp, 0, 1)\n",
    "    inp = (inp * 255).astype(np.uint8)\n",
    "    \n",
    "    return inp"
   ]
  },
  {
   "cell_type": "code",
   "execution_count": 33,
   "metadata": {},
   "outputs": [
    {
     "output_type": "stream",
     "name": "stdout",
     "text": [
      "torch.Size([1, 3, 375, 500]) torch.Size([1, 22, 375, 500])\n"
     ]
    }
   ],
   "source": [
    "# Get a batch of training data\n",
    "inputs, masks = next(iter(dataloaders['train']))\n",
    "print(inputs.shape, masks.shape)"
   ]
  },
  {
   "cell_type": "code",
   "execution_count": null,
   "metadata": {},
   "outputs": [],
   "source": [
    "print(inputs.shape, masks.shape)\n",
    "for x in [inputs.numpy(), masks.numpy()]:\n",
    "    print(x.min(), x.max(), x.mean(), x.std())\n",
    "\n",
    "plt.imshow(reverse_transform(inputs[3]))"
   ]
  },
  {
   "cell_type": "code",
   "execution_count": 105,
   "metadata": {},
   "outputs": [
    {
     "output_type": "stream",
     "name": "stdout",
     "text": [
      "----------------------------------------------------------------\n        Layer (type)               Output Shape         Param #\n================================================================\n            Conv2d-1         [-1, 64, 224, 224]           1,792\n              ReLU-2         [-1, 64, 224, 224]               0\n            Conv2d-3         [-1, 64, 224, 224]          36,928\n              ReLU-4         [-1, 64, 224, 224]               0\n         MaxPool2d-5         [-1, 64, 112, 112]               0\n            Conv2d-6        [-1, 128, 112, 112]          73,856\n              ReLU-7        [-1, 128, 112, 112]               0\n            Conv2d-8        [-1, 128, 112, 112]         147,584\n              ReLU-9        [-1, 128, 112, 112]               0\n        MaxPool2d-10          [-1, 128, 56, 56]               0\n           Conv2d-11          [-1, 256, 56, 56]         295,168\n             ReLU-12          [-1, 256, 56, 56]               0\n           Conv2d-13          [-1, 256, 56, 56]         590,080\n             ReLU-14          [-1, 256, 56, 56]               0\n        MaxPool2d-15          [-1, 256, 28, 28]               0\n           Conv2d-16          [-1, 512, 28, 28]       1,180,160\n             ReLU-17          [-1, 512, 28, 28]               0\n           Conv2d-18          [-1, 512, 28, 28]       2,359,808\n             ReLU-19          [-1, 512, 28, 28]               0\n         Upsample-20          [-1, 512, 56, 56]               0\n           Conv2d-21          [-1, 256, 56, 56]       1,769,728\n             ReLU-22          [-1, 256, 56, 56]               0\n           Conv2d-23          [-1, 256, 56, 56]         590,080\n             ReLU-24          [-1, 256, 56, 56]               0\n         Upsample-25        [-1, 256, 112, 112]               0\n           Conv2d-26        [-1, 128, 112, 112]         442,496\n             ReLU-27        [-1, 128, 112, 112]               0\n           Conv2d-28        [-1, 128, 112, 112]         147,584\n             ReLU-29        [-1, 128, 112, 112]               0\n         Upsample-30        [-1, 128, 224, 224]               0\n           Conv2d-31         [-1, 64, 224, 224]         110,656\n             ReLU-32         [-1, 64, 224, 224]               0\n           Conv2d-33         [-1, 64, 224, 224]          36,928\n             ReLU-34         [-1, 64, 224, 224]               0\n           Conv2d-35         [-1, 22, 224, 224]           1,430\n================================================================\nTotal params: 7,784,278\nTrainable params: 7,784,278\nNon-trainable params: 0\n----------------------------------------------------------------\nInput size (MB): 0.57\nForward/backward pass size (MB): 460.14\nParams size (MB): 29.69\nEstimated Total Size (MB): 490.41\n----------------------------------------------------------------\n"
     ]
    }
   ],
   "source": [
    "from torchsummary import summary\n",
    "import torch\n",
    "import torch.nn as nn\n",
    "import pytorch_unet\n",
    "\n",
    "device = torch.device('cuda' if torch.cuda.is_available() else 'cpu')\n",
    "\n",
    "model = pytorch_unet.UNet(22)\n",
    "model = model.to(device)\n",
    "\n",
    "summary(model, input_size=(3, 224, 224))"
   ]
  },
  {
   "cell_type": "code",
   "execution_count": 36,
   "metadata": {},
   "outputs": [],
   "source": [
    "from collections import defaultdict\n",
    "import torch.nn.functional as F\n",
    "from loss import dice_loss\n",
    "\n",
    "def calc_loss(pred, target, metrics, bce_weight=0.5):\n",
    "    bce = F.binary_cross_entropy_with_logits(pred, target)\n",
    "        \n",
    "    pred = F.sigmoid(pred)\n",
    "    dice = dice_loss(pred, target)\n",
    "    \n",
    "    loss = bce * bce_weight + dice * (1 - bce_weight)\n",
    "    \n",
    "    metrics['bce'] += bce.data.cpu().numpy() * target.size(0)\n",
    "    metrics['dice'] += dice.data.cpu().numpy() * target.size(0)\n",
    "    metrics['loss'] += loss.data.cpu().numpy() * target.size(0)\n",
    "    \n",
    "    return loss\n",
    "\n",
    "def print_metrics(metrics, epoch_samples, phase):    \n",
    "    outputs = []\n",
    "    for k in metrics.keys():\n",
    "        outputs.append(\"{}: {:4f}\".format(k, metrics[k] / epoch_samples))\n",
    "        \n",
    "    print(\"{}: {}\".format(phase, \", \".join(outputs)))    \n",
    "\n",
    "def train_model(model, optimizer, scheduler, num_epochs=1):\n",
    "    best_model_wts = copy.deepcopy(model.state_dict())\n",
    "    best_loss = 1e10\n",
    "\n",
    "    for epoch in range(num_epochs):\n",
    "        print('Epoch {}/{}'.format(epoch, num_epochs - 1))\n",
    "        print('-' * 10)\n",
    "        \n",
    "        since = time.time()\n",
    "\n",
    "        # Each epoch has a training and validation phase\n",
    "        for phase in ['train', 'val']:\n",
    "            if phase == 'train':\n",
    "                scheduler.step()\n",
    "                for param_group in optimizer.param_groups:\n",
    "                    print(\"LR\", param_group['lr'])\n",
    "                    \n",
    "                model.train()  # Set model to training mode\n",
    "            else:\n",
    "                model.eval()   # Set model to evaluate mode\n",
    "\n",
    "            metrics = defaultdict(float)\n",
    "            epoch_samples = 0\n",
    "            \n",
    "            for inputs, labels in dataloaders[phase]:\n",
    "                inputs = inputs.to(device,dtype=torch.float32)\n",
    "                labels = labels.to(device,dtype=torch.float32)\n",
    "                print(inputs.shape)  \n",
    "\n",
    "                # zero the parameter gradients\n",
    "                optimizer.zero_grad()\n",
    "\n",
    "                # forward\n",
    "                # track history if only in train\n",
    "                with torch.set_grad_enabled(phase == 'train'):\n",
    "                    outputs = model(inputs)\n",
    "                    loss = calc_loss(outputs, labels, metrics)\n",
    "\n",
    "                    # backward + optimize only if in training phase\n",
    "                    if phase == 'train':\n",
    "                        loss.backward()\n",
    "                        optimizer.step()\n",
    "\n",
    "                # statistics\n",
    "                epoch_samples += inputs.size(0)\n",
    "\n",
    "            print_metrics(metrics, epoch_samples, phase)\n",
    "            epoch_loss = metrics['loss'] / epoch_samples\n",
    "\n",
    "            # deep copy the model\n",
    "            if phase == 'val' and epoch_loss < best_loss:\n",
    "                print(\"saving best model\")\n",
    "                best_loss = epoch_loss\n",
    "                best_model_wts = copy.deepcopy(model.state_dict())\n",
    "\n",
    "        time_elapsed = time.time() - since\n",
    "        print('{:.0f}m {:.0f}s'.format(time_elapsed // 60, time_elapsed % 60))\n",
    "    print('Best val loss: {:4f}'.format(best_loss))\n",
    "\n",
    "    # load best model weights\n",
    "    model.load_state_dict(best_model_wts)\n",
    "    return model"
   ]
  },
  {
   "cell_type": "code",
   "execution_count": 103,
   "metadata": {
    "scrolled": true
   },
   "outputs": [
    {
     "output_type": "stream",
     "name": "stdout",
     "text": [
      "cpu\nEpoch 0/0\n----------\nLR 0.0001\ntorch.Size([1, 3, 500, 332])\n"
     ]
    },
    {
     "output_type": "error",
     "ename": "RuntimeError",
     "evalue": "Sizes of tensors must match except in dimension 1. Got 124 and 125 in dimension 2 (The offending index is 1)",
     "traceback": [
      "\u001b[1;31m---------------------------------------------------------------------------\u001b[0m",
      "\u001b[1;31mRuntimeError\u001b[0m                              Traceback (most recent call last)",
      "\u001b[1;32m<ipython-input-103-56f72d5f42bf>\u001b[0m in \u001b[0;36m<module>\u001b[1;34m\u001b[0m\n\u001b[0;32m     17\u001b[0m \u001b[0mexp_lr_scheduler\u001b[0m \u001b[1;33m=\u001b[0m \u001b[0mlr_scheduler\u001b[0m\u001b[1;33m.\u001b[0m\u001b[0mStepLR\u001b[0m\u001b[1;33m(\u001b[0m\u001b[0moptimizer_ft\u001b[0m\u001b[1;33m,\u001b[0m \u001b[0mstep_size\u001b[0m\u001b[1;33m=\u001b[0m\u001b[1;36m25\u001b[0m\u001b[1;33m,\u001b[0m \u001b[0mgamma\u001b[0m\u001b[1;33m=\u001b[0m\u001b[1;36m0.1\u001b[0m\u001b[1;33m)\u001b[0m\u001b[1;33m\u001b[0m\u001b[1;33m\u001b[0m\u001b[0m\n\u001b[0;32m     18\u001b[0m \u001b[1;33m\u001b[0m\u001b[0m\n\u001b[1;32m---> 19\u001b[1;33m \u001b[0mmodel\u001b[0m \u001b[1;33m=\u001b[0m \u001b[0mtrain_model\u001b[0m\u001b[1;33m(\u001b[0m\u001b[0mmodel\u001b[0m\u001b[1;33m,\u001b[0m \u001b[0moptimizer_ft\u001b[0m\u001b[1;33m,\u001b[0m \u001b[0mexp_lr_scheduler\u001b[0m\u001b[1;33m,\u001b[0m \u001b[0mnum_epochs\u001b[0m\u001b[1;33m=\u001b[0m\u001b[1;36m1\u001b[0m\u001b[1;33m)\u001b[0m\u001b[1;33m\u001b[0m\u001b[1;33m\u001b[0m\u001b[0m\n\u001b[0m",
      "\u001b[1;32m<ipython-input-36-064ad5a3d1e6>\u001b[0m in \u001b[0;36mtrain_model\u001b[1;34m(model, optimizer, scheduler, num_epochs)\u001b[0m\n\u001b[0;32m     59\u001b[0m                 \u001b[1;31m# track history if only in train\u001b[0m\u001b[1;33m\u001b[0m\u001b[1;33m\u001b[0m\u001b[1;33m\u001b[0m\u001b[0m\n\u001b[0;32m     60\u001b[0m                 \u001b[1;32mwith\u001b[0m \u001b[0mtorch\u001b[0m\u001b[1;33m.\u001b[0m\u001b[0mset_grad_enabled\u001b[0m\u001b[1;33m(\u001b[0m\u001b[0mphase\u001b[0m \u001b[1;33m==\u001b[0m \u001b[1;34m'train'\u001b[0m\u001b[1;33m)\u001b[0m\u001b[1;33m:\u001b[0m\u001b[1;33m\u001b[0m\u001b[1;33m\u001b[0m\u001b[0m\n\u001b[1;32m---> 61\u001b[1;33m                     \u001b[0moutputs\u001b[0m \u001b[1;33m=\u001b[0m \u001b[0mmodel\u001b[0m\u001b[1;33m(\u001b[0m\u001b[0minputs\u001b[0m\u001b[1;33m)\u001b[0m\u001b[1;33m\u001b[0m\u001b[1;33m\u001b[0m\u001b[0m\n\u001b[0m\u001b[0;32m     62\u001b[0m                     \u001b[0mloss\u001b[0m \u001b[1;33m=\u001b[0m \u001b[0mcalc_loss\u001b[0m\u001b[1;33m(\u001b[0m\u001b[0moutputs\u001b[0m\u001b[1;33m,\u001b[0m \u001b[0mlabels\u001b[0m\u001b[1;33m,\u001b[0m \u001b[0mmetrics\u001b[0m\u001b[1;33m)\u001b[0m\u001b[1;33m\u001b[0m\u001b[1;33m\u001b[0m\u001b[0m\n\u001b[0;32m     63\u001b[0m \u001b[1;33m\u001b[0m\u001b[0m\n",
      "\u001b[1;32m~\\Anaconda3\\lib\\site-packages\\torch\\nn\\modules\\module.py\u001b[0m in \u001b[0;36m_call_impl\u001b[1;34m(self, *input, **kwargs)\u001b[0m\n\u001b[0;32m    720\u001b[0m             \u001b[0mresult\u001b[0m \u001b[1;33m=\u001b[0m \u001b[0mself\u001b[0m\u001b[1;33m.\u001b[0m\u001b[0m_slow_forward\u001b[0m\u001b[1;33m(\u001b[0m\u001b[1;33m*\u001b[0m\u001b[0minput\u001b[0m\u001b[1;33m,\u001b[0m \u001b[1;33m**\u001b[0m\u001b[0mkwargs\u001b[0m\u001b[1;33m)\u001b[0m\u001b[1;33m\u001b[0m\u001b[1;33m\u001b[0m\u001b[0m\n\u001b[0;32m    721\u001b[0m         \u001b[1;32melse\u001b[0m\u001b[1;33m:\u001b[0m\u001b[1;33m\u001b[0m\u001b[1;33m\u001b[0m\u001b[0m\n\u001b[1;32m--> 722\u001b[1;33m             \u001b[0mresult\u001b[0m \u001b[1;33m=\u001b[0m \u001b[0mself\u001b[0m\u001b[1;33m.\u001b[0m\u001b[0mforward\u001b[0m\u001b[1;33m(\u001b[0m\u001b[1;33m*\u001b[0m\u001b[0minput\u001b[0m\u001b[1;33m,\u001b[0m \u001b[1;33m**\u001b[0m\u001b[0mkwargs\u001b[0m\u001b[1;33m)\u001b[0m\u001b[1;33m\u001b[0m\u001b[1;33m\u001b[0m\u001b[0m\n\u001b[0m\u001b[0;32m    723\u001b[0m         for hook in itertools.chain(\n\u001b[0;32m    724\u001b[0m                 \u001b[0m_global_forward_hooks\u001b[0m\u001b[1;33m.\u001b[0m\u001b[0mvalues\u001b[0m\u001b[1;33m(\u001b[0m\u001b[1;33m)\u001b[0m\u001b[1;33m,\u001b[0m\u001b[1;33m\u001b[0m\u001b[1;33m\u001b[0m\u001b[0m\n",
      "\u001b[1;32mc:\\Users\\evgen\\OneDrive - Imperial College London\\ML\\_Image_Segmentation_Capstone_Project\\pytorch_unet.py\u001b[0m in \u001b[0;36mforward\u001b[1;34m(self, x)\u001b[0m\n\u001b[0;32m     44\u001b[0m \u001b[1;33m\u001b[0m\u001b[0m\n\u001b[0;32m     45\u001b[0m         \u001b[0mx\u001b[0m \u001b[1;33m=\u001b[0m \u001b[0mself\u001b[0m\u001b[1;33m.\u001b[0m\u001b[0mupsample\u001b[0m\u001b[1;33m(\u001b[0m\u001b[0mx\u001b[0m\u001b[1;33m)\u001b[0m\u001b[1;33m\u001b[0m\u001b[1;33m\u001b[0m\u001b[0m\n\u001b[1;32m---> 46\u001b[1;33m         \u001b[0mx\u001b[0m \u001b[1;33m=\u001b[0m \u001b[0mtorch\u001b[0m\u001b[1;33m.\u001b[0m\u001b[0mcat\u001b[0m\u001b[1;33m(\u001b[0m\u001b[1;33m[\u001b[0m\u001b[0mx\u001b[0m\u001b[1;33m,\u001b[0m \u001b[0mconv3\u001b[0m\u001b[1;33m]\u001b[0m\u001b[1;33m,\u001b[0m \u001b[0mdim\u001b[0m\u001b[1;33m=\u001b[0m\u001b[1;36m1\u001b[0m\u001b[1;33m)\u001b[0m\u001b[1;33m\u001b[0m\u001b[1;33m\u001b[0m\u001b[0m\n\u001b[0m\u001b[0;32m     47\u001b[0m \u001b[1;33m\u001b[0m\u001b[0m\n\u001b[0;32m     48\u001b[0m         \u001b[0mx\u001b[0m \u001b[1;33m=\u001b[0m \u001b[0mself\u001b[0m\u001b[1;33m.\u001b[0m\u001b[0mdconv_up3\u001b[0m\u001b[1;33m(\u001b[0m\u001b[0mx\u001b[0m\u001b[1;33m)\u001b[0m\u001b[1;33m\u001b[0m\u001b[1;33m\u001b[0m\u001b[0m\n",
      "\u001b[1;31mRuntimeError\u001b[0m: Sizes of tensors must match except in dimension 1. Got 124 and 125 in dimension 2 (The offending index is 1)"
     ]
    }
   ],
   "source": [
    "import torch\n",
    "import torch.optim as optim\n",
    "from torch.optim import lr_scheduler\n",
    "import time\n",
    "import copy\n",
    "\n",
    "device = torch.device(\"cuda:0\" if torch.cuda.is_available() else \"cpu\")\n",
    "print(device)\n",
    "\n",
    "num_class = 22\n",
    "\n",
    "model = pytorch_unet.UNet(num_class).to(device)\n",
    "\n",
    "# Observe that all parameters are being optimized\n",
    "optimizer_ft = optim.Adam(model.parameters(), lr=1e-4)\n",
    "\n",
    "exp_lr_scheduler = lr_scheduler.StepLR(optimizer_ft, step_size=25, gamma=0.1)\n",
    "\n",
    "model = train_model(model, optimizer_ft, exp_lr_scheduler, num_epochs=1)"
   ]
  },
  {
   "cell_type": "code",
   "execution_count": 8,
   "metadata": {},
   "outputs": [
    {
     "name": "stdout",
     "output_type": "stream",
     "text": [
      "(3, 6, 192, 192)\n"
     ]
    },
    {
     "data": {
      "image/png": "[encoded data removed]",
      "text/plain": [
       "<Figure size 864x864 with 9 Axes>"
      ]
     },
     "metadata": {},
     "output_type": "display_data"
    }
   ],
   "source": [
    "# prediction\n",
    "\n",
    "import math\n",
    "\n",
    "model.eval()   # Set model to evaluate mode\n",
    "\n",
    "test_dataset = SimDataset(3, transform = trans)\n",
    "test_loader = DataLoader(test_dataset, batch_size=3, shuffle=False, num_workers=0)\n",
    "        \n",
    "inputs, labels = next(iter(test_loader))\n",
    "inputs = inputs.to(device)\n",
    "labels = labels.to(device)\n",
    "\n",
    "pred = model(inputs)\n",
    "\n",
    "pred = pred.data.cpu().numpy()\n",
    "print(pred.shape)\n",
    "\n",
    "# Change channel-order and make 3 channels for matplot\n",
    "input_images_rgb = [reverse_transform(x) for x in inputs.cpu()]\n",
    "\n",
    "# Map each channel (i.e. class) to each color\n",
    "target_masks_rgb = [helper.masks_to_colorimg(x) for x in labels.cpu().numpy()]\n",
    "pred_rgb = [helper.masks_to_colorimg(x) for x in pred]\n",
    "\n",
    "helper.plot_side_by_side([input_images_rgb, target_masks_rgb, pred_rgb])"
   ]
  }
 ],
 "metadata": {
  "kernelspec": {
   "name": "python3",
   "display_name": "Python 3",
   "language": "python"
  },
  "language_info": {
   "codemirror_mode": {
    "name": "ipython",
    "version": 3
   },
   "file_extension": ".py",
   "mimetype": "text/x-python",
   "name": "python",
   "nbconvert_exporter": "python",
   "pygments_lexer": "ipython3",
   "version": "3.7.4-final"
  }
 },
 "nbformat": 4,
 "nbformat_minor": 2
}